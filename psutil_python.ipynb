{
 "cells": [
  {
   "cell_type": "code",
   "execution_count": 1,
   "metadata": {},
   "outputs": [],
   "source": [
    "import psutil"
   ]
  },
  {
   "cell_type": "code",
   "execution_count": 3,
   "metadata": {},
   "outputs": [
    {
     "data": {
      "text/plain": [
       "[scputimes(user=1.3, nice=13.8, system=3.7, idle=80.7, iowait=0.0, irq=0.0, softirq=0.5, steal=0.0, guest=0.0, guest_nice=0.0),\n",
       " scputimes(user=1.5, nice=13.1, system=2.8, idle=78.9, iowait=0.4, irq=0.0, softirq=3.2, steal=0.0, guest=0.0, guest_nice=0.0),\n",
       " scputimes(user=1.5, nice=14.3, system=2.6, idle=80.9, iowait=0.3, irq=0.0, softirq=0.3, steal=0.0, guest=0.0, guest_nice=0.0),\n",
       " scputimes(user=0.5, nice=17.3, system=3.4, idle=78.7, iowait=0.1, irq=0.0, softirq=0.0, steal=0.0, guest=0.0, guest_nice=0.0)]"
      ]
     },
     "execution_count": 3,
     "metadata": {},
     "output_type": "execute_result"
    }
   ],
   "source": [
    "psutil.cpu_times_percent(interval=10, percpu=True)"
   ]
  },
  {
   "cell_type": "code",
   "execution_count": 4,
   "metadata": {},
   "outputs": [
    {
     "data": {
      "text/plain": [
       "[22.8, 27.0, 21.6, 25.7]"
      ]
     },
     "execution_count": 4,
     "metadata": {},
     "output_type": "execute_result"
    }
   ],
   "source": [
    "psutil.cpu_percent(interval=10, percpu=True)"
   ]
  },
  {
   "cell_type": "code",
   "execution_count": 34,
   "metadata": {},
   "outputs": [
    {
     "data": {
      "text/plain": [
       "[scputimes(user=1.2, nice=14.7, system=3.5, idle=80.5, iowait=0.1, irq=0.0, softirq=0.0, steal=0.0, guest=0.0, guest_nice=0.0),\n",
       " scputimes(user=1.2, nice=11.4, system=2.5, idle=84.7, iowait=0.1, irq=0.0, softirq=0.0, steal=0.0, guest=0.0, guest_nice=0.0),\n",
       " scputimes(user=0.6, nice=16.4, system=3.1, idle=79.9, iowait=0.0, irq=0.0, softirq=0.0, steal=0.0, guest=0.0, guest_nice=0.0),\n",
       " scputimes(user=0.7, nice=13.8, system=3.0, idle=82.3, iowait=0.2, irq=0.0, softirq=0.0, steal=0.0, guest=0.0, guest_nice=0.0)]"
      ]
     },
     "execution_count": 34,
     "metadata": {},
     "output_type": "execute_result"
    }
   ],
   "source": [
    "psutil.cpu_times_percent(interval=10, percpu=True)"
   ]
  },
  {
   "cell_type": "code",
   "execution_count": 5,
   "metadata": {},
   "outputs": [
    {
     "data": {
      "text/plain": [
       "4"
      ]
     },
     "execution_count": 5,
     "metadata": {},
     "output_type": "execute_result"
    }
   ],
   "source": [
    "psutil.cpu_count(logical=True)"
   ]
  },
  {
   "cell_type": "code",
   "execution_count": 6,
   "metadata": {},
   "outputs": [
    {
     "data": {
      "text/plain": [
       "2"
      ]
     },
     "execution_count": 6,
     "metadata": {},
     "output_type": "execute_result"
    }
   ],
   "source": [
    "psutil.cpu_count(logical=False)"
   ]
  },
  {
   "cell_type": "code",
   "execution_count": 7,
   "metadata": {},
   "outputs": [
    {
     "data": {
      "text/plain": [
       "(1.9267578125, 1.41064453125, 0.92919921875)"
      ]
     },
     "execution_count": 7,
     "metadata": {},
     "output_type": "execute_result"
    }
   ],
   "source": [
    "psutil.getloadavg()"
   ]
  },
  {
   "cell_type": "code",
   "execution_count": 8,
   "metadata": {},
   "outputs": [
    {
     "data": {
      "text/plain": [
       "[scpufreq(current=2962.796, min=1200.0, max=3100.0),\n",
       " scpufreq(current=2952.648, min=1200.0, max=3100.0),\n",
       " scpufreq(current=2893.288, min=1200.0, max=3100.0),\n",
       " scpufreq(current=2893.303, min=1200.0, max=3100.0)]"
      ]
     },
     "execution_count": 8,
     "metadata": {},
     "output_type": "execute_result"
    }
   ],
   "source": [
    "psutil.cpu_freq(percpu=True)"
   ]
  },
  {
   "cell_type": "code",
   "execution_count": 9,
   "metadata": {},
   "outputs": [
    {
     "data": {
      "text/plain": [
       "1707406128.0"
      ]
     },
     "execution_count": 9,
     "metadata": {},
     "output_type": "execute_result"
    }
   ],
   "source": [
    "psutil.boot_time()"
   ]
  },
  {
   "cell_type": "code",
   "execution_count": 10,
   "metadata": {},
   "outputs": [
    {
     "data": {
      "text/plain": [
       "svmem(total=16647700480, available=14355021824, percent=13.8, used=1729257472, free=12170874880, active=2399461376, inactive=1496932352, buffers=153686016, cached=2593882112, shared=239951872, slab=290115584)"
      ]
     },
     "execution_count": 10,
     "metadata": {},
     "output_type": "execute_result"
    }
   ],
   "source": [
    "psutil.virtual_memory()"
   ]
  },
  {
   "cell_type": "code",
   "execution_count": 11,
   "metadata": {},
   "outputs": [],
   "source": [
    "import psutil\n",
    "mem = psutil.virtual_memory()\n",
    "mem\n",
    "THRESHOLD = 10000 * 1366 * 768  # 100MB\n",
    "if mem.available <= THRESHOLD:\n",
    "    print(\"warning\")"
   ]
  },
  {
   "cell_type": "code",
   "execution_count": 12,
   "metadata": {},
   "outputs": [
    {
     "data": {
      "text/plain": [
       "svmem(total=16647700480, available=14341971968, percent=13.9, used=1743110144, free=12157722624, active=2409594880, inactive=1498341376, buffers=153784320, cached=2593083392, shared=239149056, slab=290115584)"
      ]
     },
     "execution_count": 12,
     "metadata": {},
     "output_type": "execute_result"
    }
   ],
   "source": [
    "import psutil\n",
    "mem = psutil.virtual_memory()\n",
    "mem"
   ]
  },
  {
   "cell_type": "code",
   "execution_count": 13,
   "metadata": {},
   "outputs": [
    {
     "data": {
      "text/plain": [
       "{'lo': snicstats(isup=True, duplex=<NicDuplex.NIC_DUPLEX_UNKNOWN: 0>, speed=0, mtu=65536, flags='up,loopback,running'),\n",
       " 'enp2s0f0': snicstats(isup=True, duplex=<NicDuplex.NIC_DUPLEX_FULL: 2>, speed=1000, mtu=1500, flags='up,broadcast,running,multicast'),\n",
       " 'wlp3s0': snicstats(isup=False, duplex=<NicDuplex.NIC_DUPLEX_UNKNOWN: 0>, speed=0, mtu=1500, flags='up,broadcast,multicast')}"
      ]
     },
     "execution_count": 13,
     "metadata": {},
     "output_type": "execute_result"
    }
   ],
   "source": [
    "psutil.net_if_stats()"
   ]
  },
  {
   "cell_type": "code",
   "execution_count": 14,
   "metadata": {},
   "outputs": [
    {
     "name": "stdout",
     "output_type": "stream",
     "text": [
      "lo:\n",
      "    stats          : speed=0MB, duplex=?, mtu=65536, up=yes\n",
      "    incoming       : bytes=2.7M, pkts=10539, errs=0, drops=0\n",
      "    outgoing       : bytes=2.7M, pkts=10539, errs=0, drops=0\n",
      "    IPv4 address   : 127.0.0.1\n",
      "         netmask   : 255.0.0.0\n",
      "    IPv6 address   : ::1\n",
      "         netmask   : ffff:ffff:ffff:ffff:ffff:ffff:ffff:ffff\n",
      "    MAC  address   : 00:00:00:00:00:00\n",
      "\n",
      "enp2s0f0:\n",
      "    stats          : speed=1000MB, duplex=full, mtu=1500, up=yes\n",
      "    incoming       : bytes=33.6M, pkts=45290, errs=0, drops=0\n",
      "    outgoing       : bytes=14.7M, pkts=36361, errs=0, drops=0\n",
      "    IPv4 address   : 192.168.0.196\n",
      "         broadcast : 192.168.0.255\n",
      "         netmask   : 255.255.255.0\n",
      "    IPv6 address   : fd01::1584:be98:a514:ecee\n",
      "         netmask   : ffff:ffff:ffff:ffff::\n",
      "    IPv6 address   : fd01::6058:90f3:f570:2953\n",
      "         netmask   : ffff:ffff:ffff:ffff::\n",
      "    IPv6 address   : fe80::9e0a:17c4:83a2:791c%enp2s0f0\n",
      "         netmask   : ffff:ffff:ffff:ffff::\n",
      "    MAC  address   : b8:88:e3:09:73:d5\n",
      "         broadcast : ff:ff:ff:ff:ff:ff\n",
      "\n",
      "wlp3s0:\n",
      "    stats          : speed=0MB, duplex=?, mtu=1500, up=no\n",
      "    incoming       : bytes=423.4K, pkts=3061, errs=0, drops=0\n",
      "    outgoing       : bytes=905.8K, pkts=5199, errs=0, drops=0\n",
      "    IPv6 address   : fe80::8301:1e1d:3139:ac16%wlp3s0\n",
      "         netmask   : ffff:ffff:ffff:ffff::\n",
      "    MAC  address   : 08:ed:b9:ee:16:7f\n",
      "         broadcast : ff:ff:ff:ff:ff:ff\n",
      "\n"
     ]
    }
   ],
   "source": [
    "import socket\n",
    "import psutil\n",
    "from psutil._common import bytes2human\n",
    "\n",
    "af_map = {\n",
    "    socket.AF_INET: 'IPv4',\n",
    "    socket.AF_INET6: 'IPv6',\n",
    "    psutil.AF_LINK: 'MAC',\n",
    "}\n",
    "\n",
    "duplex_map = {\n",
    "    psutil.NIC_DUPLEX_FULL: \"full\",\n",
    "    psutil.NIC_DUPLEX_HALF: \"half\",\n",
    "    psutil.NIC_DUPLEX_UNKNOWN: \"?\",\n",
    "}\n",
    "\n",
    "def main():\n",
    "    stats = psutil.net_if_stats()\n",
    "    io_counters = psutil.net_io_counters(pernic=True)\n",
    "    for nic, addrs in psutil.net_if_addrs().items():\n",
    "        print(\"%s:\" % (nic))\n",
    "        if nic in stats:\n",
    "            st = stats[nic]\n",
    "            print(\"    stats          : \", end='')\n",
    "            print(\"speed=%sMB, duplex=%s, mtu=%s, up=%s\" % (\n",
    "                st.speed, duplex_map[st.duplex], st.mtu,\n",
    "                \"yes\" if st.isup else \"no\"))\n",
    "        if nic in io_counters:\n",
    "            io = io_counters[nic]\n",
    "            print(\"    incoming       : \", end='')\n",
    "            print(\"bytes=%s, pkts=%s, errs=%s, drops=%s\" % (\n",
    "                bytes2human(io.bytes_recv), io.packets_recv, io.errin,\n",
    "                io.dropin))\n",
    "            print(\"    outgoing       : \", end='')\n",
    "            print(\"bytes=%s, pkts=%s, errs=%s, drops=%s\" % (\n",
    "                bytes2human(io.bytes_sent), io.packets_sent, io.errout,\n",
    "                io.dropout))\n",
    "        for addr in addrs:\n",
    "            print(\"    %-4s\" % af_map.get(addr.family, addr.family), end=\"\")\n",
    "            print(\" address   : %s\" % addr.address)\n",
    "            if addr.broadcast:\n",
    "                print(\"         broadcast : %s\" % addr.broadcast)\n",
    "            if addr.netmask:\n",
    "                print(\"         netmask   : %s\" % addr.netmask)\n",
    "            if addr.ptp:\n",
    "                print(\"      p2p       : %s\" % addr.ptp)\n",
    "        print(\"\")\n",
    "\n",
    "if __name__ == '__main__':\n",
    "    main()\n"
   ]
  },
  {
   "cell_type": "code",
   "execution_count": 15,
   "metadata": {},
   "outputs": [
    {
     "data": {
      "text/plain": [
       "{'lo': [snicaddr(family=<AddressFamily.AF_INET: 2>, address='127.0.0.1', netmask='255.0.0.0', broadcast=None, ptp=None),\n",
       "  snicaddr(family=<AddressFamily.AF_INET6: 10>, address='::1', netmask='ffff:ffff:ffff:ffff:ffff:ffff:ffff:ffff', broadcast=None, ptp=None),\n",
       "  snicaddr(family=<AddressFamily.AF_PACKET: 17>, address='00:00:00:00:00:00', netmask=None, broadcast=None, ptp=None)],\n",
       " 'enp2s0f0': [snicaddr(family=<AddressFamily.AF_INET: 2>, address='192.168.0.196', netmask='255.255.255.0', broadcast='192.168.0.255', ptp=None),\n",
       "  snicaddr(family=<AddressFamily.AF_INET6: 10>, address='fd01::1584:be98:a514:ecee', netmask='ffff:ffff:ffff:ffff::', broadcast=None, ptp=None),\n",
       "  snicaddr(family=<AddressFamily.AF_INET6: 10>, address='fd01::6058:90f3:f570:2953', netmask='ffff:ffff:ffff:ffff::', broadcast=None, ptp=None),\n",
       "  snicaddr(family=<AddressFamily.AF_INET6: 10>, address='fe80::9e0a:17c4:83a2:791c%enp2s0f0', netmask='ffff:ffff:ffff:ffff::', broadcast=None, ptp=None),\n",
       "  snicaddr(family=<AddressFamily.AF_PACKET: 17>, address='b8:88:e3:09:73:d5', netmask=None, broadcast='ff:ff:ff:ff:ff:ff', ptp=None)],\n",
       " 'wlp3s0': [snicaddr(family=<AddressFamily.AF_INET6: 10>, address='fe80::8301:1e1d:3139:ac16%wlp3s0', netmask='ffff:ffff:ffff:ffff::', broadcast=None, ptp=None),\n",
       "  snicaddr(family=<AddressFamily.AF_PACKET: 17>, address='08:ed:b9:ee:16:7f', netmask=None, broadcast='ff:ff:ff:ff:ff:ff', ptp=None)]}"
      ]
     },
     "execution_count": 15,
     "metadata": {},
     "output_type": "execute_result"
    }
   ],
   "source": [
    "psutil.net_if_addrs()"
   ]
  }
 ],
 "metadata": {
  "kernelspec": {
   "display_name": ".venv",
   "language": "python",
   "name": "python3"
  },
  "language_info": {
   "codemirror_mode": {
    "name": "ipython",
    "version": 3
   },
   "file_extension": ".py",
   "mimetype": "text/x-python",
   "name": "python",
   "nbconvert_exporter": "python",
   "pygments_lexer": "ipython3",
   "version": "3.10.12"
  }
 },
 "nbformat": 4,
 "nbformat_minor": 2
}
