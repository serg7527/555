{
 "cells": [
  {
   "cell_type": "code",
   "execution_count": 2,
   "metadata": {},
   "outputs": [],
   "source": [
    "import psutil"
   ]
  },
  {
   "cell_type": "code",
   "execution_count": 33,
   "metadata": {},
   "outputs": [
    {
     "data": {
      "text/plain": [
       "scputimes(user=2031.72, nice=1333.82, system=747.93, idle=63823.66, iowait=163.4, irq=0.0, softirq=497.66, steal=0.0, guest=0.0, guest_nice=0.0)"
      ]
     },
     "execution_count": 33,
     "metadata": {},
     "output_type": "execute_result"
    }
   ],
   "source": [
    "psutil.cpu_times(False)"
   ]
  },
  {
   "cell_type": "code",
   "execution_count": 34,
   "metadata": {},
   "outputs": [
    {
     "data": {
      "text/plain": [
       "scputimes(user=0.8, nice=16.2, system=2.5, idle=79.3, iowait=0.5, irq=0.0, softirq=0.8, steal=0.0, guest=0.0, guest_nice=0.0)"
      ]
     },
     "execution_count": 34,
     "metadata": {},
     "output_type": "execute_result"
    }
   ],
   "source": [
    "psutil.cpu_times_percent(interval=1, percpu=False)"
   ]
  },
  {
   "cell_type": "code",
   "execution_count": 11,
   "metadata": {},
   "outputs": [],
   "source": [
    "def show_cpu(data):\n",
    "    print(\"CPU Information:\")\n",
    "    cpu_percentages = data\n",
    "    for i, cpu in enumerate(cpu_percentages):\n",
    "        print(f\"CPU Core {i + 1} Usage: {cpu}%\")"
   ]
  },
  {
   "cell_type": "code",
   "execution_count": 12,
   "metadata": {},
   "outputs": [
    {
     "data": {
      "text/plain": [
       "[scputimes(user=284.95, nice=61.58, system=57.77, idle=2522.08, iowait=9.53, irq=0.0, softirq=16.04, steal=0.0, guest=0.0, guest_nice=0.0),\n",
       " scputimes(user=259.64, nice=45.15, system=55.79, idle=2558.34, iowait=9.68, irq=0.0, softirq=11.2, steal=0.0, guest=0.0, guest_nice=0.0),\n",
       " scputimes(user=244.36, nice=39.62, system=54.86, idle=2575.02, iowait=9.39, irq=0.0, softirq=17.58, steal=0.0, guest=0.0, guest_nice=0.0),\n",
       " scputimes(user=236.14, nice=38.13, system=57.34, idle=2501.33, iowait=9.56, irq=0.0, softirq=48.64, steal=0.0, guest=0.0, guest_nice=0.0)]"
      ]
     },
     "execution_count": 12,
     "metadata": {},
     "output_type": "execute_result"
    }
   ],
   "source": [
    "psutil.cpu_times(True)"
   ]
  },
  {
   "cell_type": "code",
   "execution_count": 3,
   "metadata": {},
   "outputs": [
    {
     "data": {
      "text/plain": [
       "scputimes(user=1085.25, nice=290.44, system=259.44, idle=11412.18, iowait=40.4, irq=0.0, softirq=105.62, steal=0.0, guest=0.0, guest_nice=0.0)"
      ]
     },
     "execution_count": 3,
     "metadata": {},
     "output_type": "execute_result"
    }
   ],
   "source": [
    "psutil.cpu_times()"
   ]
  }
 ],
 "metadata": {
  "kernelspec": {
   "display_name": ".venv",
   "language": "python",
   "name": "python3"
  },
  "language_info": {
   "codemirror_mode": {
    "name": "ipython",
    "version": 3
   },
   "file_extension": ".py",
   "mimetype": "text/x-python",
   "name": "python",
   "nbconvert_exporter": "python",
   "pygments_lexer": "ipython3",
   "version": "3.10.12"
  }
 },
 "nbformat": 4,
 "nbformat_minor": 2
}
